{
 "cells": [
  {
   "cell_type": "markdown",
   "metadata": {},
   "source": [
    "# XML example and exercise\n",
    "****\n",
    "+ study examples of accessing nodes in XML tree structure  \n",
    "+ work on exercise to be completed and submitted\n",
    "****\n",
    "+ reference: https://docs.python.org/2.7/library/xml.etree.elementtree.html\n",
    "+ data source: http://www.dbis.informatik.uni-goettingen.de/Mondial\n",
    "****"
   ]
  },
  {
   "cell_type": "code",
   "execution_count": 1,
   "metadata": {
    "collapsed": true
   },
   "outputs": [],
   "source": [
    "from xml.etree import ElementTree as ET\n",
    "import numpy as np"
   ]
  },
  {
   "cell_type": "markdown",
   "metadata": {},
   "source": [
    "## XML example\n",
    "\n",
    "+ for details about tree traversal and iterators, see https://docs.python.org/2.7/library/xml.etree.elementtree.html"
   ]
  },
  {
   "cell_type": "code",
   "execution_count": 29,
   "metadata": {
    "collapsed": false
   },
   "outputs": [],
   "source": [
    "document_tree = ET.parse( './data/mondial_database_less.xml' )"
   ]
  },
  {
   "cell_type": "code",
   "execution_count": 111,
   "metadata": {
    "collapsed": false
   },
   "outputs": [
    {
     "name": "stdout",
     "output_type": "stream",
     "text": [
      "Albania\n",
      "Greece\n",
      "Macedonia\n",
      "Serbia\n",
      "Montenegro\n",
      "Kosovo\n",
      "Andorra\n"
     ]
    }
   ],
   "source": [
    "# print names of all countries\n",
    "for child in document_tree.getroot():\n",
    "    print(child.find('name').text)\n",
    "    #How do I know I can do .text? I can't do .value and doing dir() doesn't give it to me\n",
    "    "
   ]
  },
  {
   "cell_type": "code",
   "execution_count": 4,
   "metadata": {
    "collapsed": false
   },
   "outputs": [
    {
     "name": "stdout",
     "output_type": "stream",
     "text": [
      "* Albania:\n",
      "Tirana, Shkodër, Durrës, Vlorë, Elbasan, Korçë\n",
      "* Greece:\n",
      "Komotini, Kavala, Athina, Peiraias, Peristeri, Acharnes, Patra, Kozani, Kerkyra, Ioannina, Thessaloniki, Iraklio, Chania, Ermoupoli, Rhodes, Tripoli, Lamia, Chalkida, Larissa, Volos, Mytilini, Karyes\n",
      "* Macedonia:\n",
      "Skopje, Kumanovo\n",
      "* Serbia:\n",
      "Beograd, Novi Sad, Niš\n",
      "* Montenegro:\n",
      "Podgorica\n",
      "* Kosovo:\n",
      "Prishtine\n",
      "* Andorra:\n",
      "Andorra la Vella\n"
     ]
    }
   ],
   "source": [
    "# print names of all countries and their cities\n",
    "for element in document_tree.iterfind('country'):\n",
    "    print('* ' + element.find('name').text + ':')\n",
    "    capitals_string = ''\n",
    "    for subelement in element.getiterator('city'):\n",
    "        capitals_string += subelement.find('name').text + ', '\n",
    "    print(capitals_string[:-2])"
   ]
  },
  {
   "cell_type": "markdown",
   "metadata": {},
   "source": [
    "****\n",
    "## XML exercise\n",
    "\n",
    "Using data in 'data/mondial_database.xml', the examples above, and refering to https://docs.python.org/2.7/library/xml.etree.elementtree.html, find\n",
    "\n",
    "1. 10 countries with the lowest infant mortality rates\n",
    "2. 10 cities with the largest population\n",
    "3. 10 ethnic groups with the largest overall populations (sum of best/latest estimates over all countries)\n",
    "4. name and country of a) longest river, b) largest lake and c) airport at highest elevation"
   ]
  },
  {
   "cell_type": "code",
   "execution_count": 2,
   "metadata": {
    "collapsed": true
   },
   "outputs": [],
   "source": [
    "document = ET.parse( './data/mondial_database.xml' )"
   ]
  },
  {
   "cell_type": "code",
   "execution_count": 39,
   "metadata": {
    "collapsed": true
   },
   "outputs": [],
   "source": [
    "import pandas as pd\n",
    "import numpy as np\n",
    "# function to create a dataframe with the country name plus one other field (??What if I want to make 1 to several fields?)\n",
    "# answer is *args but I'm not sure exactly how to do it. Maybe ask Ryan.\n",
    "def create_dataframe(data,column):\n",
    "        df = pd.DataFrame(columns=('name', column))\n",
    "        for child in data:\n",
    "            country = child.find('name').text\n",
    "            other = child.find(column)\n",
    "            if other is None:\n",
    "                other = np.NaN\n",
    "            else:\n",
    "                other = float(other.text)\n",
    "            row = dict(zip(['name', column], [country,other]))\n",
    "            row_series = pd.Series(row)\n",
    "            row_series.name = country\n",
    "            df = df.append(row_series)\n",
    "        return df"
   ]
  },
  {
   "cell_type": "code",
   "execution_count": 43,
   "metadata": {
    "collapsed": false
   },
   "outputs": [
    {
     "data": {
      "text/html": [
       "<div>\n",
       "<table border=\"1\" class=\"dataframe\">\n",
       "  <thead>\n",
       "    <tr style=\"text-align: right;\">\n",
       "      <th></th>\n",
       "      <th>name</th>\n",
       "      <th>infant_mortality</th>\n",
       "    </tr>\n",
       "  </thead>\n",
       "  <tbody>\n",
       "    <tr>\n",
       "      <th>Monaco</th>\n",
       "      <td>Monaco</td>\n",
       "      <td>1.81</td>\n",
       "    </tr>\n",
       "    <tr>\n",
       "      <th>Japan</th>\n",
       "      <td>Japan</td>\n",
       "      <td>2.13</td>\n",
       "    </tr>\n",
       "    <tr>\n",
       "      <th>Bermuda</th>\n",
       "      <td>Bermuda</td>\n",
       "      <td>2.48</td>\n",
       "    </tr>\n",
       "    <tr>\n",
       "      <th>Norway</th>\n",
       "      <td>Norway</td>\n",
       "      <td>2.48</td>\n",
       "    </tr>\n",
       "    <tr>\n",
       "      <th>Singapore</th>\n",
       "      <td>Singapore</td>\n",
       "      <td>2.53</td>\n",
       "    </tr>\n",
       "    <tr>\n",
       "      <th>Sweden</th>\n",
       "      <td>Sweden</td>\n",
       "      <td>2.60</td>\n",
       "    </tr>\n",
       "    <tr>\n",
       "      <th>Czech Republic</th>\n",
       "      <td>Czech Republic</td>\n",
       "      <td>2.63</td>\n",
       "    </tr>\n",
       "    <tr>\n",
       "      <th>Hong Kong</th>\n",
       "      <td>Hong Kong</td>\n",
       "      <td>2.73</td>\n",
       "    </tr>\n",
       "    <tr>\n",
       "      <th>Macao</th>\n",
       "      <td>Macao</td>\n",
       "      <td>3.13</td>\n",
       "    </tr>\n",
       "    <tr>\n",
       "      <th>Iceland</th>\n",
       "      <td>Iceland</td>\n",
       "      <td>3.15</td>\n",
       "    </tr>\n",
       "  </tbody>\n",
       "</table>\n",
       "</div>"
      ],
      "text/plain": [
       "                          name  infant_mortality\n",
       "Monaco                  Monaco              1.81\n",
       "Japan                    Japan              2.13\n",
       "Bermuda                Bermuda              2.48\n",
       "Norway                  Norway              2.48\n",
       "Singapore            Singapore              2.53\n",
       "Sweden                  Sweden              2.60\n",
       "Czech Republic  Czech Republic              2.63\n",
       "Hong Kong            Hong Kong              2.73\n",
       "Macao                    Macao              3.13\n",
       "Iceland                Iceland              3.15"
      ]
     },
     "execution_count": 43,
     "metadata": {},
     "output_type": "execute_result"
    }
   ],
   "source": [
    "#1. 10 countries with the lowest infant mortality\n",
    "test = create_dataframe(document.getroot(),'infant_mortality')\n",
    "#test\n",
    "test.sort_values(by=\"infant_mortality\").head(10)\n"
   ]
  },
  {
   "cell_type": "code",
   "execution_count": 6,
   "metadata": {
    "collapsed": false
   },
   "outputs": [],
   "source": [
    "# 2. There are multiple populations per city for different years, but the years don't always match.  I'll pull the largest\n",
    "# for each city and retain the year of that value\n",
    "city_pop_df = pd.DataFrame(columns=('city', 'population', 'year'))\n",
    "for element in document.iterfind('country'):\n",
    "    for subelement in element.getiterator('city'):\n",
    "        city = subelement.find('name').text #This is the first child only, so the fact there are 2 city names for Tirana is ok\n",
    "        maxpop = 0\n",
    "        year = 0\n",
    "        for population in subelement.findall('population'): #There are multiple populations for each city!\n",
    "            pop = float(population.text)\n",
    "            if pop > maxpop:\n",
    "                maxpop = pop\n",
    "                year = population.get('year')\n",
    "        row = dict(zip(['city', 'population','year'], [city,maxpop,year]))\n",
    "        row_series = pd.Series(row)\n",
    "        row_series.name = city\n",
    "        city_pop_df = city_pop_df.append(row_series)"
   ]
  },
  {
   "cell_type": "code",
   "execution_count": 13,
   "metadata": {
    "collapsed": false
   },
   "outputs": [
    {
     "data": {
      "text/html": [
       "<div>\n",
       "<table border=\"1\" class=\"dataframe\">\n",
       "  <thead>\n",
       "    <tr style=\"text-align: right;\">\n",
       "      <th></th>\n",
       "      <th>city</th>\n",
       "      <th>population</th>\n",
       "      <th>year</th>\n",
       "    </tr>\n",
       "  </thead>\n",
       "  <tbody>\n",
       "    <tr>\n",
       "      <th>Shanghai</th>\n",
       "      <td>Shanghai</td>\n",
       "      <td>22315474.0</td>\n",
       "      <td>2010</td>\n",
       "    </tr>\n",
       "    <tr>\n",
       "      <th>Istanbul</th>\n",
       "      <td>Istanbul</td>\n",
       "      <td>13710512.0</td>\n",
       "      <td>2012</td>\n",
       "    </tr>\n",
       "    <tr>\n",
       "      <th>Delhi</th>\n",
       "      <td>Delhi</td>\n",
       "      <td>12877470.0</td>\n",
       "      <td>2001</td>\n",
       "    </tr>\n",
       "    <tr>\n",
       "      <th>Mumbai</th>\n",
       "      <td>Mumbai</td>\n",
       "      <td>12442373.0</td>\n",
       "      <td>2011</td>\n",
       "    </tr>\n",
       "    <tr>\n",
       "      <th>Moskva</th>\n",
       "      <td>Moskva</td>\n",
       "      <td>11979529.0</td>\n",
       "      <td>2013</td>\n",
       "    </tr>\n",
       "    <tr>\n",
       "      <th>Beijing</th>\n",
       "      <td>Beijing</td>\n",
       "      <td>11716620.0</td>\n",
       "      <td>2010</td>\n",
       "    </tr>\n",
       "    <tr>\n",
       "      <th>São Paulo</th>\n",
       "      <td>São Paulo</td>\n",
       "      <td>11152344.0</td>\n",
       "      <td>2010</td>\n",
       "    </tr>\n",
       "    <tr>\n",
       "      <th>Tianjin</th>\n",
       "      <td>Tianjin</td>\n",
       "      <td>11090314.0</td>\n",
       "      <td>2010</td>\n",
       "    </tr>\n",
       "    <tr>\n",
       "      <th>Guangzhou</th>\n",
       "      <td>Guangzhou</td>\n",
       "      <td>11071424.0</td>\n",
       "      <td>2010</td>\n",
       "    </tr>\n",
       "    <tr>\n",
       "      <th>Shenzhen</th>\n",
       "      <td>Shenzhen</td>\n",
       "      <td>10358381.0</td>\n",
       "      <td>2010</td>\n",
       "    </tr>\n",
       "  </tbody>\n",
       "</table>\n",
       "</div>"
      ],
      "text/plain": [
       "                city  population  year\n",
       "Shanghai    Shanghai  22315474.0  2010\n",
       "Istanbul    Istanbul  13710512.0  2012\n",
       "Delhi          Delhi  12877470.0  2001\n",
       "Mumbai        Mumbai  12442373.0  2011\n",
       "Moskva        Moskva  11979529.0  2013\n",
       "Beijing      Beijing  11716620.0  2010\n",
       "São Paulo  São Paulo  11152344.0  2010\n",
       "Tianjin      Tianjin  11090314.0  2010\n",
       "Guangzhou  Guangzhou  11071424.0  2010\n",
       "Shenzhen    Shenzhen  10358381.0  2010"
      ]
     },
     "execution_count": 13,
     "metadata": {},
     "output_type": "execute_result"
    }
   ],
   "source": [
    "city_pop_df.sort_values(by=\"population\",ascending=False).head(10)"
   ]
  },
  {
   "cell_type": "code",
   "execution_count": 16,
   "metadata": {
    "collapsed": true
   },
   "outputs": [],
   "source": [
    "# 3. There are multiple ethnicities per country listed as a percentage. I will grab all, the percentages, and the latest\n",
    "# population and create a data frame. Then I'll group by ethnicity and get sums\n",
    "ethnicity_df = pd.DataFrame(columns=('country', 'ethnicity', 'as_pct','as_pop'))\n",
    "for element in document.iterfind('country'):\n",
    "    country = element.find('name').text\n",
    "    latest_pop = 0\n",
    "    latest_year = 0\n",
    "    for population in element.findall('population'): #There are multiple populations for each country: Need Latest\n",
    "        pop = float(population.text)\n",
    "        year = float(population.get('year'))\n",
    "        if year > latest_year:\n",
    "            latest_pop = pop\n",
    "    for group in element.findall('ethnicgroup'): #There are multiple ethnicities for each country\n",
    "        ethnicity = group.text\n",
    "        pct = float(group.get('percentage'))\n",
    "        ethnicity_pop = latest_pop*pct/100\n",
    "        row = dict(zip(['country', 'ethnicity', 'as_pct','as_pop'], [country,ethnicity,pct,ethnicity_pop]))\n",
    "        row_series = pd.Series(row)\n",
    "        row_series.name = country\n",
    "        ethnicity_df = ethnicity_df.append(row_series)"
   ]
  },
  {
   "cell_type": "code",
   "execution_count": 17,
   "metadata": {
    "collapsed": false
   },
   "outputs": [
    {
     "data": {
      "text/html": [
       "<div>\n",
       "<table border=\"1\" class=\"dataframe\">\n",
       "  <thead>\n",
       "    <tr style=\"text-align: right;\">\n",
       "      <th></th>\n",
       "      <th>country</th>\n",
       "      <th>ethnicity</th>\n",
       "      <th>as_pct</th>\n",
       "      <th>as_pop</th>\n",
       "    </tr>\n",
       "  </thead>\n",
       "  <tbody>\n",
       "    <tr>\n",
       "      <th>Albania</th>\n",
       "      <td>Albania</td>\n",
       "      <td>Albanian</td>\n",
       "      <td>95.0</td>\n",
       "      <td>2.660131e+06</td>\n",
       "    </tr>\n",
       "    <tr>\n",
       "      <th>Albania</th>\n",
       "      <td>Albania</td>\n",
       "      <td>Greek</td>\n",
       "      <td>3.0</td>\n",
       "      <td>8.400414e+04</td>\n",
       "    </tr>\n",
       "    <tr>\n",
       "      <th>Greece</th>\n",
       "      <td>Greece</td>\n",
       "      <td>Greek</td>\n",
       "      <td>93.0</td>\n",
       "      <td>1.005915e+07</td>\n",
       "    </tr>\n",
       "    <tr>\n",
       "      <th>Macedonia</th>\n",
       "      <td>Macedonia</td>\n",
       "      <td>Macedonian</td>\n",
       "      <td>64.2</td>\n",
       "      <td>1.322388e+06</td>\n",
       "    </tr>\n",
       "    <tr>\n",
       "      <th>Macedonia</th>\n",
       "      <td>Macedonia</td>\n",
       "      <td>Albanian</td>\n",
       "      <td>25.2</td>\n",
       "      <td>5.190681e+05</td>\n",
       "    </tr>\n",
       "  </tbody>\n",
       "</table>\n",
       "</div>"
      ],
      "text/plain": [
       "             country   ethnicity  as_pct        as_pop\n",
       "Albania      Albania    Albanian    95.0  2.660131e+06\n",
       "Albania      Albania       Greek     3.0  8.400414e+04\n",
       "Greece        Greece       Greek    93.0  1.005915e+07\n",
       "Macedonia  Macedonia  Macedonian    64.2  1.322388e+06\n",
       "Macedonia  Macedonia    Albanian    25.2  5.190681e+05"
      ]
     },
     "execution_count": 17,
     "metadata": {},
     "output_type": "execute_result"
    }
   ],
   "source": [
    "ethnicity_df.head()"
   ]
  },
  {
   "cell_type": "code",
   "execution_count": 19,
   "metadata": {
    "collapsed": false
   },
   "outputs": [
    {
     "data": {
      "text/html": [
       "<div>\n",
       "<table border=\"1\" class=\"dataframe\">\n",
       "  <thead>\n",
       "    <tr style=\"text-align: right;\">\n",
       "      <th></th>\n",
       "      <th>as_pct</th>\n",
       "      <th>as_pop</th>\n",
       "    </tr>\n",
       "    <tr>\n",
       "      <th>ethnicity</th>\n",
       "      <th></th>\n",
       "      <th></th>\n",
       "    </tr>\n",
       "  </thead>\n",
       "  <tbody>\n",
       "    <tr>\n",
       "      <th>Han Chinese</th>\n",
       "      <td>91.50</td>\n",
       "      <td>1.245059e+09</td>\n",
       "    </tr>\n",
       "    <tr>\n",
       "      <th>Indo-Aryan</th>\n",
       "      <td>72.00</td>\n",
       "      <td>8.718156e+08</td>\n",
       "    </tr>\n",
       "    <tr>\n",
       "      <th>European</th>\n",
       "      <td>970.82</td>\n",
       "      <td>4.948722e+08</td>\n",
       "    </tr>\n",
       "    <tr>\n",
       "      <th>African</th>\n",
       "      <td>1868.55</td>\n",
       "      <td>3.183251e+08</td>\n",
       "    </tr>\n",
       "    <tr>\n",
       "      <th>Dravidian</th>\n",
       "      <td>25.00</td>\n",
       "      <td>3.027137e+08</td>\n",
       "    </tr>\n",
       "    <tr>\n",
       "      <th>Mestizo</th>\n",
       "      <td>870.70</td>\n",
       "      <td>1.577344e+08</td>\n",
       "    </tr>\n",
       "    <tr>\n",
       "      <th>Bengali</th>\n",
       "      <td>98.00</td>\n",
       "      <td>1.467769e+08</td>\n",
       "    </tr>\n",
       "    <tr>\n",
       "      <th>Russian</th>\n",
       "      <td>224.10</td>\n",
       "      <td>1.318570e+08</td>\n",
       "    </tr>\n",
       "    <tr>\n",
       "      <th>Japanese</th>\n",
       "      <td>99.40</td>\n",
       "      <td>1.265342e+08</td>\n",
       "    </tr>\n",
       "    <tr>\n",
       "      <th>Malay</th>\n",
       "      <td>242.30</td>\n",
       "      <td>1.219936e+08</td>\n",
       "    </tr>\n",
       "  </tbody>\n",
       "</table>\n",
       "</div>"
      ],
      "text/plain": [
       "              as_pct        as_pop\n",
       "ethnicity                         \n",
       "Han Chinese    91.50  1.245059e+09\n",
       "Indo-Aryan     72.00  8.718156e+08\n",
       "European      970.82  4.948722e+08\n",
       "African      1868.55  3.183251e+08\n",
       "Dravidian      25.00  3.027137e+08\n",
       "Mestizo       870.70  1.577344e+08\n",
       "Bengali        98.00  1.467769e+08\n",
       "Russian       224.10  1.318570e+08\n",
       "Japanese       99.40  1.265342e+08\n",
       "Malay         242.30  1.219936e+08"
      ]
     },
     "execution_count": 19,
     "metadata": {},
     "output_type": "execute_result"
    }
   ],
   "source": [
    "ethnicity_df.groupby(by='ethnicity').sum().sort_values(by=\"as_pop\",ascending=False).head(10)"
   ]
  },
  {
   "cell_type": "code",
   "execution_count": 23,
   "metadata": {
    "collapsed": false
   },
   "outputs": [
    {
     "data": {
      "text/html": [
       "<div>\n",
       "<table border=\"1\" class=\"dataframe\">\n",
       "  <thead>\n",
       "    <tr style=\"text-align: right;\">\n",
       "      <th></th>\n",
       "      <th>country</th>\n",
       "      <th>ethnicity</th>\n",
       "      <th>as_pct</th>\n",
       "      <th>as_pop</th>\n",
       "    </tr>\n",
       "  </thead>\n",
       "  <tbody>\n",
       "    <tr>\n",
       "      <th>India</th>\n",
       "      <td>India</td>\n",
       "      <td>Dravidian</td>\n",
       "      <td>25.0</td>\n",
       "      <td>3.027137e+08</td>\n",
       "    </tr>\n",
       "  </tbody>\n",
       "</table>\n",
       "</div>"
      ],
      "text/plain": [
       "      country  ethnicity  as_pct        as_pop\n",
       "India   India  Dravidian    25.0  3.027137e+08"
      ]
     },
     "execution_count": 23,
     "metadata": {},
     "output_type": "execute_result"
    }
   ],
   "source": [
    "#What is \"Dravidian\"?\n",
    "ethnicity_df[ethnicity_df.ethnicity == \"Dravidian\"]"
   ]
  },
  {
   "cell_type": "code",
   "execution_count": 24,
   "metadata": {
    "collapsed": false
   },
   "outputs": [
    {
     "data": {
      "text/html": [
       "<div>\n",
       "<table border=\"1\" class=\"dataframe\">\n",
       "  <thead>\n",
       "    <tr style=\"text-align: right;\">\n",
       "      <th></th>\n",
       "      <th>country</th>\n",
       "      <th>ethnicity</th>\n",
       "      <th>as_pct</th>\n",
       "      <th>as_pop</th>\n",
       "    </tr>\n",
       "  </thead>\n",
       "  <tbody>\n",
       "    <tr>\n",
       "      <th>India</th>\n",
       "      <td>India</td>\n",
       "      <td>Dravidian</td>\n",
       "      <td>25.0</td>\n",
       "      <td>3.027137e+08</td>\n",
       "    </tr>\n",
       "    <tr>\n",
       "      <th>India</th>\n",
       "      <td>India</td>\n",
       "      <td>Indo-Aryan</td>\n",
       "      <td>72.0</td>\n",
       "      <td>8.718156e+08</td>\n",
       "    </tr>\n",
       "    <tr>\n",
       "      <th>India</th>\n",
       "      <td>India</td>\n",
       "      <td>Mongol</td>\n",
       "      <td>3.0</td>\n",
       "      <td>3.632565e+07</td>\n",
       "    </tr>\n",
       "  </tbody>\n",
       "</table>\n",
       "</div>"
      ],
      "text/plain": [
       "      country   ethnicity  as_pct        as_pop\n",
       "India   India   Dravidian    25.0  3.027137e+08\n",
       "India   India  Indo-Aryan    72.0  8.718156e+08\n",
       "India   India      Mongol     3.0  3.632565e+07"
      ]
     },
     "execution_count": 24,
     "metadata": {},
     "output_type": "execute_result"
    }
   ],
   "source": [
    "#What are the other ethnicities in India?\n",
    "ethnicity_df[ethnicity_df.country == \"India\"]"
   ]
  },
  {
   "cell_type": "code",
   "execution_count": 57,
   "metadata": {
    "collapsed": false
   },
   "outputs": [],
   "source": [
    "# 4. name and country of a) longest river\n",
    "river_df = pd.DataFrame(columns=('river', 'code', 'length'))\n",
    "for element in document.iterfind('river'):\n",
    "    river = element.find('name').text\n",
    "    length= element.find('length')\n",
    "    if length is None:\n",
    "        length = np.NaN\n",
    "    else:\n",
    "        length = float(length.text)\n",
    "    source = element.find('source').get('country')\n",
    "    row = dict(zip(['river', 'code', 'length'], [river,source,length]))\n",
    "    row_series = pd.Series(row)\n",
    "    row_series.name = river\n",
    "    river_df = river_df.append(row_series)\n",
    "    "
   ]
  },
  {
   "cell_type": "code",
   "execution_count": 58,
   "metadata": {
    "collapsed": false
   },
   "outputs": [],
   "source": [
    "# Need the countries from the country codes\n",
    "country_df = pd.DataFrame(columns=('country', 'code'))\n",
    "for element in document.iterfind('country'):\n",
    "    code = element.get('car_code')\n",
    "    country = element.find('name').text\n",
    "    row = dict(zip(['country', 'code'], [country,code]))\n",
    "    row_series = pd.Series(row)\n",
    "    row_series.name = country\n",
    "    country_df = country_df.append(row_series)"
   ]
  },
  {
   "cell_type": "code",
   "execution_count": 59,
   "metadata": {
    "collapsed": false
   },
   "outputs": [],
   "source": [
    "river_country_df = pd.merge(river_df,country_df,on='code')"
   ]
  },
  {
   "cell_type": "code",
   "execution_count": 63,
   "metadata": {
    "collapsed": false
   },
   "outputs": [
    {
     "data": {
      "text/html": [
       "<div>\n",
       "<table border=\"1\" class=\"dataframe\">\n",
       "  <thead>\n",
       "    <tr style=\"text-align: right;\">\n",
       "      <th></th>\n",
       "      <th>river</th>\n",
       "      <th>code</th>\n",
       "      <th>length</th>\n",
       "      <th>country</th>\n",
       "    </tr>\n",
       "  </thead>\n",
       "  <tbody>\n",
       "    <tr>\n",
       "      <th>171</th>\n",
       "      <td>Amazonas</td>\n",
       "      <td>PE</td>\n",
       "      <td>6448.0</td>\n",
       "      <td>Peru</td>\n",
       "    </tr>\n",
       "    <tr>\n",
       "      <th>131</th>\n",
       "      <td>Jangtse</td>\n",
       "      <td>CN</td>\n",
       "      <td>6380.0</td>\n",
       "      <td>China</td>\n",
       "    </tr>\n",
       "    <tr>\n",
       "      <th>130</th>\n",
       "      <td>Hwangho</td>\n",
       "      <td>CN</td>\n",
       "      <td>4845.0</td>\n",
       "      <td>China</td>\n",
       "    </tr>\n",
       "    <tr>\n",
       "      <th>120</th>\n",
       "      <td>Lena</td>\n",
       "      <td>R</td>\n",
       "      <td>4400.0</td>\n",
       "      <td>Russia</td>\n",
       "    </tr>\n",
       "    <tr>\n",
       "      <th>199</th>\n",
       "      <td>Zaire</td>\n",
       "      <td>ZRE</td>\n",
       "      <td>4374.0</td>\n",
       "      <td>Zaire</td>\n",
       "    </tr>\n",
       "    <tr>\n",
       "      <th>132</th>\n",
       "      <td>Mekong</td>\n",
       "      <td>CN</td>\n",
       "      <td>4350.0</td>\n",
       "      <td>China</td>\n",
       "    </tr>\n",
       "    <tr>\n",
       "      <th>124</th>\n",
       "      <td>Irtysch</td>\n",
       "      <td>KAZ</td>\n",
       "      <td>4248.0</td>\n",
       "      <td>Kazakhstan</td>\n",
       "    </tr>\n",
       "    <tr>\n",
       "      <th>179</th>\n",
       "      <td>Niger</td>\n",
       "      <td>RG</td>\n",
       "      <td>4184.0</td>\n",
       "      <td>Guinea</td>\n",
       "    </tr>\n",
       "    <tr>\n",
       "      <th>155</th>\n",
       "      <td>Missouri</td>\n",
       "      <td>USA</td>\n",
       "      <td>4130.0</td>\n",
       "      <td>United States</td>\n",
       "    </tr>\n",
       "    <tr>\n",
       "      <th>117</th>\n",
       "      <td>Jenissej</td>\n",
       "      <td>R</td>\n",
       "      <td>4092.0</td>\n",
       "      <td>Russia</td>\n",
       "    </tr>\n",
       "  </tbody>\n",
       "</table>\n",
       "</div>"
      ],
      "text/plain": [
       "        river code  length        country\n",
       "171  Amazonas   PE  6448.0           Peru\n",
       "131   Jangtse   CN  6380.0          China\n",
       "130   Hwangho   CN  4845.0          China\n",
       "120      Lena    R  4400.0         Russia\n",
       "199     Zaire  ZRE  4374.0          Zaire\n",
       "132    Mekong   CN  4350.0          China\n",
       "124   Irtysch  KAZ  4248.0     Kazakhstan\n",
       "179     Niger   RG  4184.0         Guinea\n",
       "155  Missouri  USA  4130.0  United States\n",
       "117  Jenissej    R  4092.0         Russia"
      ]
     },
     "execution_count": 63,
     "metadata": {},
     "output_type": "execute_result"
    }
   ],
   "source": [
    "river_country_df.sort_values(by=\"length\",ascending=False).head(10)"
   ]
  },
  {
   "cell_type": "code",
   "execution_count": 73,
   "metadata": {
    "collapsed": false
   },
   "outputs": [
    {
     "data": {
      "text/html": [
       "<div>\n",
       "<table border=\"1\" class=\"dataframe\">\n",
       "  <thead>\n",
       "    <tr style=\"text-align: right;\">\n",
       "      <th></th>\n",
       "      <th>lake</th>\n",
       "      <th>code</th>\n",
       "      <th>area</th>\n",
       "      <th>country</th>\n",
       "    </tr>\n",
       "  </thead>\n",
       "  <tbody>\n",
       "    <tr>\n",
       "      <th>77</th>\n",
       "      <td>Lake Michigan</td>\n",
       "      <td>USA</td>\n",
       "      <td>57800.0</td>\n",
       "      <td>United States</td>\n",
       "    </tr>\n",
       "    <tr>\n",
       "      <th>70</th>\n",
       "      <td>Great Bear Lake</td>\n",
       "      <td>CDN</td>\n",
       "      <td>31792.0</td>\n",
       "      <td>Canada</td>\n",
       "    </tr>\n",
       "    <tr>\n",
       "      <th>35</th>\n",
       "      <td>Ozero Baikal</td>\n",
       "      <td>R</td>\n",
       "      <td>31492.0</td>\n",
       "      <td>Russia</td>\n",
       "    </tr>\n",
       "    <tr>\n",
       "      <th>71</th>\n",
       "      <td>Great Slave Lake</td>\n",
       "      <td>CDN</td>\n",
       "      <td>28568.0</td>\n",
       "      <td>Canada</td>\n",
       "    </tr>\n",
       "    <tr>\n",
       "      <th>73</th>\n",
       "      <td>Lake Winnipeg</td>\n",
       "      <td>CDN</td>\n",
       "      <td>24420.0</td>\n",
       "      <td>Canada</td>\n",
       "    </tr>\n",
       "    <tr>\n",
       "      <th>43</th>\n",
       "      <td>Ozero Balchash</td>\n",
       "      <td>KAZ</td>\n",
       "      <td>18428.0</td>\n",
       "      <td>Kazakhstan</td>\n",
       "    </tr>\n",
       "    <tr>\n",
       "      <th>33</th>\n",
       "      <td>Ozero Ladoga</td>\n",
       "      <td>R</td>\n",
       "      <td>18400.0</td>\n",
       "      <td>Russia</td>\n",
       "    </tr>\n",
       "    <tr>\n",
       "      <th>95</th>\n",
       "      <td>Lake Maracaibo</td>\n",
       "      <td>YV</td>\n",
       "      <td>13000.0</td>\n",
       "      <td>Venezuela</td>\n",
       "    </tr>\n",
       "    <tr>\n",
       "      <th>68</th>\n",
       "      <td>Makarikari Salt Pan</td>\n",
       "      <td>RB</td>\n",
       "      <td>12000.0</td>\n",
       "      <td>Botswana</td>\n",
       "    </tr>\n",
       "    <tr>\n",
       "      <th>98</th>\n",
       "      <td>Salar de Uyuni</td>\n",
       "      <td>BOL</td>\n",
       "      <td>10582.0</td>\n",
       "      <td>Bolivia</td>\n",
       "    </tr>\n",
       "  </tbody>\n",
       "</table>\n",
       "</div>"
      ],
      "text/plain": [
       "                   lake code     area        country\n",
       "77        Lake Michigan  USA  57800.0  United States\n",
       "70      Great Bear Lake  CDN  31792.0         Canada\n",
       "35         Ozero Baikal    R  31492.0         Russia\n",
       "71     Great Slave Lake  CDN  28568.0         Canada\n",
       "73        Lake Winnipeg  CDN  24420.0         Canada\n",
       "43       Ozero Balchash  KAZ  18428.0     Kazakhstan\n",
       "33         Ozero Ladoga    R  18400.0         Russia\n",
       "95       Lake Maracaibo   YV  13000.0      Venezuela\n",
       "68  Makarikari Salt Pan   RB  12000.0       Botswana\n",
       "98       Salar de Uyuni  BOL  10582.0        Bolivia"
      ]
     },
     "execution_count": 73,
     "metadata": {},
     "output_type": "execute_result"
    }
   ],
   "source": [
    "# 4. name and country of b) largest lake\n",
    "lake_df = pd.DataFrame(columns=('lake', 'code', 'area'))\n",
    "for element in document.iterfind('lake'):\n",
    "    lake = element.find('name').text\n",
    "    area= element.find('area')\n",
    "    if area is None:\n",
    "        area = np.NaN\n",
    "    else:\n",
    "        area = float(area.text)\n",
    "    source = element.get('country')\n",
    "    row = dict(zip(['lake', 'code', 'area'], [lake,source,area]))\n",
    "    row_series = pd.Series(row)\n",
    "    row_series.name = lake\n",
    "    lake_df = lake_df.append(row_series)\n",
    "lake_df = pd.merge(lake_df,country_df,on='code')  \n",
    "lake_df.sort_values(by=\"area\",ascending=False).head(10)"
   ]
  },
  {
   "cell_type": "code",
   "execution_count": 97,
   "metadata": {
    "collapsed": false
   },
   "outputs": [
    {
     "data": {
      "text/html": [
       "<div>\n",
       "<table border=\"1\" class=\"dataframe\">\n",
       "  <thead>\n",
       "    <tr style=\"text-align: right;\">\n",
       "      <th></th>\n",
       "      <th>airport</th>\n",
       "      <th>code</th>\n",
       "      <th>elevation</th>\n",
       "      <th>country</th>\n",
       "    </tr>\n",
       "  </thead>\n",
       "  <tbody>\n",
       "    <tr>\n",
       "      <th>80</th>\n",
       "      <td>El Alto Intl</td>\n",
       "      <td>BOL</td>\n",
       "      <td>4063.0</td>\n",
       "      <td>Bolivia</td>\n",
       "    </tr>\n",
       "    <tr>\n",
       "      <th>219</th>\n",
       "      <td>Lhasa-Gonggar</td>\n",
       "      <td>CN</td>\n",
       "      <td>4005.0</td>\n",
       "      <td>China</td>\n",
       "    </tr>\n",
       "    <tr>\n",
       "      <th>241</th>\n",
       "      <td>Yushu Batang</td>\n",
       "      <td>CN</td>\n",
       "      <td>3963.0</td>\n",
       "      <td>China</td>\n",
       "    </tr>\n",
       "    <tr>\n",
       "      <th>813</th>\n",
       "      <td>Juliaca</td>\n",
       "      <td>PE</td>\n",
       "      <td>3827.0</td>\n",
       "      <td>Peru</td>\n",
       "    </tr>\n",
       "    <tr>\n",
       "      <th>815</th>\n",
       "      <td>Teniente Alejandro Velasco Astete Intl</td>\n",
       "      <td>PE</td>\n",
       "      <td>3311.0</td>\n",
       "      <td>Peru</td>\n",
       "    </tr>\n",
       "    <tr>\n",
       "      <th>82</th>\n",
       "      <td>Juana Azurduy De Padilla</td>\n",
       "      <td>BOL</td>\n",
       "      <td>2905.0</td>\n",
       "      <td>Bolivia</td>\n",
       "    </tr>\n",
       "    <tr>\n",
       "      <th>334</th>\n",
       "      <td>Mariscal Sucre Intl</td>\n",
       "      <td>EC</td>\n",
       "      <td>2813.0</td>\n",
       "      <td>Ecuador</td>\n",
       "    </tr>\n",
       "    <tr>\n",
       "      <th>805</th>\n",
       "      <td>Coronel Fap Alfredo Mendivil Duarte</td>\n",
       "      <td>PE</td>\n",
       "      <td>2719.0</td>\n",
       "      <td>Peru</td>\n",
       "    </tr>\n",
       "    <tr>\n",
       "      <th>807</th>\n",
       "      <td>Mayor General FAP Armando Revoredo Iglesias Ai...</td>\n",
       "      <td>PE</td>\n",
       "      <td>2677.0</td>\n",
       "      <td>Peru</td>\n",
       "    </tr>\n",
       "    <tr>\n",
       "      <th>692</th>\n",
       "      <td>Licenciado Adolfo Lopez Mateos Intl</td>\n",
       "      <td>MEX</td>\n",
       "      <td>2581.0</td>\n",
       "      <td>Mexico</td>\n",
       "    </tr>\n",
       "  </tbody>\n",
       "</table>\n",
       "</div>"
      ],
      "text/plain": [
       "                                               airport code  elevation  \\\n",
       "80                                        El Alto Intl  BOL     4063.0   \n",
       "219                                      Lhasa-Gonggar   CN     4005.0   \n",
       "241                                       Yushu Batang   CN     3963.0   \n",
       "813                                            Juliaca   PE     3827.0   \n",
       "815             Teniente Alejandro Velasco Astete Intl   PE     3311.0   \n",
       "82                            Juana Azurduy De Padilla  BOL     2905.0   \n",
       "334                                Mariscal Sucre Intl   EC     2813.0   \n",
       "805                Coronel Fap Alfredo Mendivil Duarte   PE     2719.0   \n",
       "807  Mayor General FAP Armando Revoredo Iglesias Ai...   PE     2677.0   \n",
       "692                Licenciado Adolfo Lopez Mateos Intl  MEX     2581.0   \n",
       "\n",
       "     country  \n",
       "80   Bolivia  \n",
       "219    China  \n",
       "241    China  \n",
       "813     Peru  \n",
       "815     Peru  \n",
       "82   Bolivia  \n",
       "334  Ecuador  \n",
       "805     Peru  \n",
       "807     Peru  \n",
       "692   Mexico  "
      ]
     },
     "execution_count": 97,
     "metadata": {},
     "output_type": "execute_result"
    }
   ],
   "source": [
    "# 4. name and country of c) airport at highest elevation\n",
    "\n",
    "airport_df = pd.DataFrame(columns=('airport', 'code', 'elevation'))\n",
    "for element in document.iterfind('airport'):\n",
    "    airport = element.find('name').text\n",
    "    elevation= element.find('elevation')\n",
    "    if elevation.text is None:\n",
    "        elevation = np.NaN\n",
    "    else:\n",
    "        elevation = float(elevation.text)\n",
    "    source = element.get('country')\n",
    "    row = dict(zip(['airport', 'code', 'elevation'], [airport,source,elevation]))\n",
    "    row_series = pd.Series(row)\n",
    "    row_series.name = airport\n",
    "    airport_df = airport_df.append(row_series)\n",
    "#airport_df.head()\n",
    "airport_df = pd.merge(airport_df,country_df,on='code')  \n",
    "airport_df.sort_values(by=\"elevation\",ascending=False).head(10)"
   ]
  },
  {
   "cell_type": "code",
   "execution_count": 31,
   "metadata": {
    "collapsed": true
   },
   "outputs": [],
   "source": []
  },
  {
   "cell_type": "code",
   "execution_count": null,
   "metadata": {
    "collapsed": true
   },
   "outputs": [],
   "source": []
  }
 ],
 "metadata": {
  "kernelspec": {
   "display_name": "Python 3",
   "language": "python",
   "name": "python3"
  },
  "language_info": {
   "codemirror_mode": {
    "name": "ipython",
    "version": 3
   },
   "file_extension": ".py",
   "mimetype": "text/x-python",
   "name": "python",
   "nbconvert_exporter": "python",
   "pygments_lexer": "ipython3",
   "version": "3.5.1"
  }
 },
 "nbformat": 4,
 "nbformat_minor": 0
}
